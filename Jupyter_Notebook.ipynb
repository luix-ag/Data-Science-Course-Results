{
 "cells": [
  {
   "cell_type": "markdown",
   "metadata": {},
   "source": [
    "<center>\n",
    "    <img src=\"https://cf-courses-data.s3.us.cloud-object-storage.appdomain.cloud/IBMDeveloperSkillsNetwork-DS0105EN-SkillsNetwork/labs/Module2/images/SN_web_lightmode.png\" width=\"300\" alt=\"cognitiveclass.ai logo\"  />\n",
    "</center>\n"
   ]
  },
  {
   "cell_type": "markdown",
   "metadata": {},
   "source": [
    "#### Add your code below following the instructions given in the course\n"
   ]
  },
  {
   "cell_type": "markdown",
   "metadata": {},
   "source": [
    "# My Jupyter Notebook on IBM Watson Studio"
   ]
  },
  {
   "cell_type": "markdown",
   "metadata": {},
   "source": [
    "__Luiz Antonio Gabriel__ </br>\n",
    "Data Scientist"
   ]
  },
  {
   "cell_type": "markdown",
   "metadata": {},
   "source": [
    "*I am interested in data science because this can provide to me the sexiest job in the 21st century.*"
   ]
  },
  {
   "cell_type": "markdown",
   "metadata": {},
   "source": [
    "### In the next cell, that is a code cell, I created a simple code that shows the result of the following mathematical expression: 25 / 5 using Python."
   ]
  },
  {
   "cell_type": "code",
   "execution_count": 1,
   "metadata": {},
   "outputs": [
    {
     "name": "stdout",
     "output_type": "stream",
     "text": [
      "5.0\n"
     ]
    }
   ],
   "source": [
    "a = 25\n",
    "b = 5\n",
    "print(a / b)"
   ]
  },
  {
   "cell_type": "markdown",
   "metadata": {},
   "source": [
    "---\n",
    "An unordered list:\n",
    "<ul>\n",
    "    <li>First thing;</li>\n",
    "    <li>Second thing;</li>\n",
    "    <li>Third thing; and</li>\n",
    "    <li>Last thing.</li>\n",
    "</ul>\n",
    "\n",
    "---\n",
    "\n",
    "Followed by a table with hyperlinks:\n",
    "\n",
    "<table>\n",
    "    <th colspan=\"2\">List of Organizations</th>\n",
    "    <tr>\n",
    "        <td>Organization</td>\n",
    "        <td>Address with link</td>\n",
    "    </tr>\n",
    "    <tr>\n",
    "        <td>W3C</td>\n",
    "        <td><a href=\"https://www.w3.org/\" />https://www.w3.org/</td>\n",
    "    </tr>\n",
    "    <tr>\n",
    "        <td>MDN</td>\n",
    "        <td><a href=\"https://developer.mozilla.org/\" />https://developer.mozilla.org/</td>\n",
    "    </tr>\n",
    "</table>\n",
    "\n",
    "---"
   ]
  },
  {
   "cell_type": "code",
   "execution_count": null,
   "metadata": {},
   "outputs": [],
   "source": []
  }
 ],
 "metadata": {
  "kernelspec": {
   "display_name": "Python",
   "language": "python",
   "name": "conda-env-python-py"
  },
  "language_info": {
   "codemirror_mode": {
    "name": "ipython",
    "version": 3
   },
   "file_extension": ".py",
   "mimetype": "text/x-python",
   "name": "python",
   "nbconvert_exporter": "python",
   "pygments_lexer": "ipython3",
   "version": "3.7.12"
  }
 },
 "nbformat": 4,
 "nbformat_minor": 4
}
