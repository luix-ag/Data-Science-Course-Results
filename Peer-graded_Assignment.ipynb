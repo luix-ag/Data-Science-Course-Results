{
 "cells": [
  {
   "cell_type": "markdown",
   "id": "f67e1b1c-1a2e-4f61-9311-81ec5ff5ac2d",
   "metadata": {},
   "source": [
    "# My Jupyter Notebook on IBM Watson Studio"
   ]
  },
  {
   "cell_type": "markdown",
   "id": "9eb96c19-f5b9-4748-a7c1-e46160fb35ca",
   "metadata": {},
   "source": [
    "__Luiz Antonio Gabriel__</br>\n",
    "Data Scientist"
   ]
  },
  {
   "cell_type": "markdown",
   "id": "4827bfee-d31f-4777-861f-7a935a1bd8a5",
   "metadata": {},
   "source": [
    "*I am interested in data science because this can provide to me the sexiest job in the 21st century.*"
   ]
  },
  {
   "cell_type": "markdown",
   "id": "ad4000e7-58bf-47c7-a06a-d1b5128c2658",
   "metadata": {},
   "source": [
    "### In the next cell, that is a code cell, I created a simple code that shows the result of the following mathematical expression: 25 / 5 using Python. ###"
   ]
  },
  {
   "cell_type": "code",
   "execution_count": 2,
   "id": "13adc326-0716-4c2d-8acc-412dec4a68a7",
   "metadata": {},
   "outputs": [
    {
     "name": "stdout",
     "output_type": "stream",
     "text": [
      "5.0\n"
     ]
    }
   ],
   "source": [
    "a = 25\n",
    "b = 5\n",
    "print(a / b)"
   ]
  },
  {
   "cell_type": "markdown",
   "id": "8c42c737-8b57-49ba-960d-c0b9b61d136c",
   "metadata": {},
   "source": [
    "---\n",
    "An unordered list:\n",
    "<ul>\n",
    "    <li>First thing;</li>\n",
    "    <li>Second thing;</li>\n",
    "    <li>Third thing; and</li>\n",
    "    <li>Last thing.</li>\n",
    "</ul>\n",
    "\n",
    "---\n",
    "\n",
    "Followed by a table with hyperlinks:\n",
    "\n",
    "<table>\n",
    "    <th colspan=\"2\">List of Organizations</th>\n",
    "    <tr>\n",
    "        <td>Organization</td>\n",
    "        <td>Address with link</td>\n",
    "    </tr>\n",
    "    <tr>\n",
    "        <td>W3C</td>\n",
    "        <td><a href=\"https://www.w3.org/\" />https://www.w3.org/</td>\n",
    "    </tr>\n",
    "    <tr>\n",
    "        <td>MDN</td>\n",
    "        <td><a href=\"https://developer.mozilla.org/\" />https://developer.mozilla.org/</td>\n",
    "    </tr>\n",
    "</table>\n",
    "\n",
    "---"
   ]
  },
  {
   "cell_type": "code",
   "execution_count": null,
   "id": "a8b5f0ec-2ea8-4668-bf40-0b081aa162bd",
   "metadata": {},
   "outputs": [],
   "source": []
  }
 ],
 "metadata": {
  "kernelspec": {
   "display_name": "Python",
   "language": "python",
   "name": "conda-env-python-py"
  },
  "language_info": {
   "codemirror_mode": {
    "name": "ipython",
    "version": 3
   },
   "file_extension": ".py",
   "mimetype": "text/x-python",
   "name": "python",
   "nbconvert_exporter": "python",
   "pygments_lexer": "ipython3",
   "version": "3.7.12"
  }
 },
 "nbformat": 4,
 "nbformat_minor": 5
}
